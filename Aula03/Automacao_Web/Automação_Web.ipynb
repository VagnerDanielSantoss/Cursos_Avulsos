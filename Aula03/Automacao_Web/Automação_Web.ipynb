{
 "cells": [
  {
   "cell_type": "markdown",
   "id": "dd732848",
   "metadata": {},
   "source": [
    "<h2>Automação Web e Busca de Informações com Python</h2>"
   ]
  },
  {
   "cell_type": "markdown",
   "id": "56f99cfa",
   "metadata": {},
   "source": [
    "<h2>Desafio:</h2>   "
   ]
  },
  {
   "cell_type": "markdown",
   "id": "47fef3c4",
   "metadata": {},
   "source": [
    "<p>Trabalhamos em uma importadora e o preço dos nossos produtos são vinculados a cotação de:</p>\n",
    "    <p>- Dólar</p>\n",
    "    <p>- Euro</p>\n",
    "    <p>- Ouro</p>\n",
    "    \n",
    "Precisamos pegar da internet, de forma automática, a cotação dessas três moedas e \n",
    "saber quanto devemos cobrar pelos produtos, considerando uma margem de contribuição que temos na nossa base de dados.\n",
    "\n",
    "Para isso, iremos criar uma automação web:\n",
    "    <p>- Usaremos o Selenium</p>\n",
    "    <p>- Importante baixar o webdriver</p>"
   ]
  },
  {
   "cell_type": "code",
   "execution_count": null,
   "id": "ceac9b59",
   "metadata": {},
   "outputs": [],
   "source": [
    "!pip install selenium"
   ]
  },
  {
   "cell_type": "code",
   "execution_count": null,
   "id": "671bdef7",
   "metadata": {},
   "outputs": [],
   "source": [
    "from selenium import webdriver\n",
    "\n",
    "from selenium.webdriver.common.keys import Keys\n",
    "\n",
    "from selenium.webdriver.common.by import By"
   ]
  },
  {
   "cell_type": "code",
   "execution_count": null,
   "id": "f9632b90",
   "metadata": {},
   "outputs": [],
   "source": [
    "navegador = webdriver.Chrome()"
   ]
  },
  {
   "cell_type": "markdown",
   "id": "38e75a8d",
   "metadata": {},
   "source": [
    "<h2> <font color = \"red\">Passo 01: Pegar a cotação do Dólar</font> </h2>"
   ]
  },
  {
   "cell_type": "code",
   "execution_count": null,
   "id": "728c2793",
   "metadata": {},
   "outputs": [],
   "source": [
    "# Entrar no Google\n",
    "\n",
    "navegador.get(\"https://www.google.com/\")\n",
    "\n",
    "navegador.find_element(\"xpath\", '//*[@id=\"input\"]').send_keys(\"cotacao dolar\")\n",
    "\n",
    "navegador.find_element(\"xpath\", '//*[@id=\"input\"]').send_keys(Keys.ENTER)\n",
    "\n",
    "cotacao_dolar = navegador.find_element('xpath', \n",
    "                                       '//*[@id=\"knowledge-currency__updatable-data-column\"]/div[3]/div/div[2]/input').get_attribute('value')\n",
    "\n",
    "navegador.quit()"
   ]
  },
  {
   "cell_type": "markdown",
   "id": "d3a6e091",
   "metadata": {},
   "source": [
    "<h2> <font color = \"red\">Passo 02: Pegar a cotação do Euro</font> </h2>"
   ]
  },
  {
   "cell_type": "code",
   "execution_count": null,
   "id": "aca5d90d",
   "metadata": {},
   "outputs": [],
   "source": [
    "# Entrar no Google\n",
    "\n",
    "navegador.get('https://www.google.com/')\n",
    "\n",
    "navegador.find_element('xpah', '//*[@id=\"input\"]').send_keys('cotacao euro')\n",
    "\n",
    "navegador.find_element('xpah', '//*[@id=\"input\"]').send_keys(Keys.ENTER)\n",
    "\n",
    "cotacao_euro = navegador.find_element('xpath',\n",
    "                                      '//*[@id=\"knowledge-currency__updatable-data-column\"]/div[3]/div/div[2]/input').get_attribute('value')\n",
    "\n",
    "navegador.quit()"
   ]
  },
  {
   "cell_type": "markdown",
   "id": "fb2fef66",
   "metadata": {},
   "source": [
    "<h2> <font color = \"red\">Passo 03: Pegar a cotação do Ouro</font> </h2>"
   ]
  },
  {
   "cell_type": "code",
   "execution_count": null,
   "id": "d7390a4d",
   "metadata": {},
   "outputs": [],
   "source": [
    "# Entrar no Google\n",
    "\n",
    "navegador.get('https://www.melhorcambio.com/ouro-hoje')\n",
    "\n",
    "cotacao_ouro = navegador.find_element('xpath',\n",
    "                                      '//*[@id=\"comercial\"]').get_attribute('value')\n",
    "cotacao_ouro = cotacao_ouro.replace(\",\", \".\")\n",
    "\n",
    "navegador.quit()"
   ]
  },
  {
   "cell_type": "markdown",
   "id": "92f3e5f2",
   "metadata": {},
   "source": [
    "<h2> <font color = \"red\">Passo 04: Importar a base de dados</font> </h2>"
   ]
  },
  {
   "cell_type": "code",
   "execution_count": null,
   "id": "2258d506",
   "metadata": {},
   "outputs": [],
   "source": [
    "import pandas\n",
    "\n",
    "tabela = pandas.read_excel(\"F:\\PythonImpressionador\\Aula03\\Arquivo\\Planilha.xlsx\")\n",
    "\n",
    "# display(tabela)"
   ]
  },
  {
   "cell_type": "markdown",
   "id": "ad2bf988",
   "metadata": {},
   "source": [
    "<h2> <font color = \"red\">Passo 05: Atualizar a base de dados</font> </h2>"
   ]
  },
  {
   "cell_type": "code",
   "execution_count": null,
   "id": "1c5a49ab",
   "metadata": {},
   "outputs": [],
   "source": [
    "# Cotação Dólar\n",
    "\n",
    "tabela.loc[tabela[\"Moeda\"] == \"Dólar\", \"Cotação\"] = float(cotacao_dolar)\n",
    "\n",
    "# Cotação Euro\n",
    "\n",
    "tabela.loc[tabela[\"Moeda\"] == \"Euro\", \"Cotação\"] = float(cotacao_euro)\n",
    "\n",
    "# Cotação Ouro\n",
    "\n",
    "tabela.loc[tabela[\"Moeda\"] == \"Ouro\", \"Cotação\"] = float(cotacao_ouro)"
   ]
  },
  {
   "cell_type": "markdown",
   "id": "25f40471",
   "metadata": {},
   "source": [
    "<h2> <font color = \"red\">Passo 06: Recalcular os preços</font> </h2>"
   ]
  },
  {
   "cell_type": "code",
   "execution_count": null,
   "id": "62456565",
   "metadata": {},
   "outputs": [],
   "source": [
    "tabela[\"Preço de Compra\"] = tabela[\"Cotação\"] * tabela[\"Preço Original\"]\n",
    "\n",
    "tabela[\"Preço de Venda\"] = tabela[\"Preço de Compra\"] * tabela[\"Margem\"]"
   ]
  },
  {
   "cell_type": "markdown",
   "id": "67f9dc19",
   "metadata": {},
   "source": [
    "<h2> <font color = \"red\">Passo 07: Exportar a base atualizada</font> </h2>"
   ]
  },
  {
   "cell_type": "code",
   "execution_count": null,
   "id": "045d022e",
   "metadata": {},
   "outputs": [],
   "source": [
    "tabela.to_excel(\"F:\\PythonImpressionador\\Aula03\\Arquivo\\Planilha_Atualizada.xlsx\", index = False)"
   ]
  }
 ],
 "metadata": {
  "kernelspec": {
   "display_name": "Python 3 (ipykernel)",
   "language": "python",
   "name": "python3"
  },
  "language_info": {
   "codemirror_mode": {
    "name": "ipython",
    "version": 3
   },
   "file_extension": ".py",
   "mimetype": "text/x-python",
   "name": "python",
   "nbconvert_exporter": "python",
   "pygments_lexer": "ipython3",
   "version": "3.11.5"
  }
 },
 "nbformat": 4,
 "nbformat_minor": 5
}
