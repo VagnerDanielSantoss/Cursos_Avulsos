{
 "cells": [
  {
   "cell_type": "markdown",
   "id": "ac775520",
   "metadata": {},
   "source": [
    "# Automação de Sistemas e Processos"
   ]
  },
  {
   "cell_type": "markdown",
   "id": "90e07f35",
   "metadata": {},
   "source": [
    "## Desafio:"
   ]
  },
  {
   "cell_type": "markdown",
   "id": "6ffbcdea",
   "metadata": {},
   "source": [
    "<p align = \"justify\">Todos os dias o sistema atualiza as vendas do dia anterior. O trabalho é diário e como analista, deve enviar um e-mail para a diretoria assim que começar o expediente com o faturamento e a quantidade de vendas do dia anterior.</p>"
   ]
  },
  {
   "cell_type": "markdown",
   "id": "24370acc",
   "metadata": {},
   "source": [
    "<p>E-mail da diretoria: endereço_do_email@provedor.com</p>"
   ]
  },
  {
   "cell_type": "markdown",
   "id": "87fff800",
   "metadata": {},
   "source": [
    "<p>Para resolver isso, será utilizado o pyautogui, uma biblioteca de automação de comandos do mouse e teclado.</p>"
   ]
  },
  {
   "cell_type": "code",
   "execution_count": null,
   "id": "929882d4",
   "metadata": {},
   "outputs": [],
   "source": [
    "#!pip install pyautogui"
   ]
  },
  {
   "cell_type": "code",
   "execution_count": null,
   "id": "28df6a82",
   "metadata": {},
   "outputs": [],
   "source": [
    "import pyautogui\n",
    "import pyperclip\n",
    "import time"
   ]
  },
  {
   "cell_type": "markdown",
   "id": "292b6839",
   "metadata": {},
   "source": [
    "<h3> <font color = \"blue\">Passo 01: Entrar no sistema da empresa.</font> </h3>"
   ]
  },
  {
   "cell_type": "code",
   "execution_count": null,
   "id": "3cf48221",
   "metadata": {},
   "outputs": [],
   "source": [
    "time.sleep(5) # OPCIONAL"
   ]
  },
  {
   "cell_type": "code",
   "execution_count": null,
   "id": "ac9027fc",
   "metadata": {},
   "outputs": [],
   "source": [
    "pyautogui.hotkey(\"win\", \"e\") # Abre o File Exporer"
   ]
  },
  {
   "cell_type": "markdown",
   "id": "8eb4d38a",
   "metadata": {},
   "source": [
    "<h3> <font color = \"blue\">Passo 02: Navegar até o local do relatório - Exemplo de situação (Entrar na pasta onde contém as informações).</font> </h3>"
   ]
  },
  {
   "cell_type": "code",
   "execution_count": null,
   "id": "3a3c7a9d",
   "metadata": {},
   "outputs": [],
   "source": [
    "#time.sleep(5) # OPCIONAL\n",
    "#pyautogui.position() # Localiza a posição onde deve ser clicado"
   ]
  },
  {
   "cell_type": "code",
   "execution_count": null,
   "id": "e5597927",
   "metadata": {},
   "outputs": [],
   "source": [
    "#### PASSOS PARA CHEGAR ATÉ O ARQUIVO.\n",
    "\n",
    "pyautogui.click(x=78, y=337, clicks = 2) # Clica em cima do item \"This PC\"\n",
    "time.sleep(5) # OPCIONAL\n",
    "\n",
    "pyautogui.click(x=1280, y=333, clicks = 2) # Clica em cima do item \"Dados (f:)\"\n",
    "time.sleep(5) # OPCIONAL\n",
    "\n",
    "pyautogui.click(x=331, y=146, clicks = 2) # Clica em cima do item \"PythonImpressionador\"\n",
    "time.sleep(5) # OPCIONAL\n",
    "\n",
    "pyautogui.click(x=276, y=160, clicks = 2) # Clica em cima do item \"Aula01\"\n",
    "time.sleep(5) # OPCIONAL\n",
    "\n",
    "pyautogui.click(x=344, y=153, clicks = 2) # Clia em cima do item \"Automacao_Sistemas_Processos\"\n",
    "time.sleep(5) # OPCIONAL\n",
    "\n",
    "pyautogui.click(x=305, y=184, clicks = 2) # Clica em cima do item \"Arquivos\"\n",
    "time.sleep(5) # OPCIONAL"
   ]
  },
  {
   "cell_type": "markdown",
   "id": "a152943c",
   "metadata": {},
   "source": [
    "<h3> <font color = \"blue\">Passo 03: Exportar o relatório caso a base seja outro lugar (Fazer o download).</font> </h3>"
   ]
  },
  {
   "cell_type": "code",
   "execution_count": null,
   "id": "3bebc000",
   "metadata": {},
   "outputs": [],
   "source": [
    "pyautogui.click(x=326, y=147, clicks = 2) # Clica em cima do item \"Vendas - Dez.xlsx\"\n",
    "time.sleep(3) # OPCIONAL"
   ]
  },
  {
   "cell_type": "markdown",
   "id": "56d466c2",
   "metadata": {},
   "source": [
    "<h3> <font color = \"blue\">Passo 04: Calcular os indicadores (Faturamento e Quantidade de produtos).</font> </h3>\n",
    "<h6> <font color = \"black\"> -> Será lido o arquivo exportado para calcular os indicadores </font> </h6>   "
   ]
  },
  {
   "cell_type": "code",
   "execution_count": null,
   "id": "5c4ac79e",
   "metadata": {},
   "outputs": [],
   "source": [
    "import pandas"
   ]
  },
  {
   "cell_type": "code",
   "execution_count": null,
   "id": "5e9c0e15",
   "metadata": {},
   "outputs": [],
   "source": [
    "tabela = pandas.read_excel(r\"F:\\PythonImpressionador\\Aula01\\Automacao_Sistemas_Porcessos\\Arquivos\\Vendas - Dez.xlsx\")\n",
    "\n",
    "display(tabela)"
   ]
  },
  {
   "cell_type": "markdown",
   "id": "dd86f726",
   "metadata": {},
   "source": [
    "<h5> <font color = \"black\">Calculo do Faturamento:</font> </h5>"
   ]
  },
  {
   "cell_type": "code",
   "execution_count": null,
   "id": "a664ba4e",
   "metadata": {},
   "outputs": [],
   "source": [
    "faturamento = tabela[\"Valor Final\"].sum()"
   ]
  },
  {
   "cell_type": "markdown",
   "id": "f3ca47fc",
   "metadata": {},
   "source": [
    "<h5> <font color = \"black\">Calculo da Quantidade:</font> </h5>"
   ]
  },
  {
   "cell_type": "code",
   "execution_count": null,
   "id": "ae295435",
   "metadata": {},
   "outputs": [],
   "source": [
    "quantidade = tabela[\"Quantidade\"].sum()"
   ]
  },
  {
   "cell_type": "markdown",
   "id": "bd20fa0b",
   "metadata": {},
   "source": [
    "<h3> <font color = \"blue\">Passo 05: Enviar um e-mail para a diretoria.</font> </h3>"
   ]
  },
  {
   "cell_type": "code",
   "execution_count": null,
   "id": "dc454a63",
   "metadata": {},
   "outputs": [],
   "source": [
    "time.sleep(15) # OPCIONAL"
   ]
  },
  {
   "cell_type": "markdown",
   "id": "295896aa",
   "metadata": {},
   "source": []
  },
  {
   "cell_type": "code",
   "execution_count": null,
   "id": "93781344",
   "metadata": {},
   "outputs": [],
   "source": [
    "# Abrir uma nova aba e entrar no e-mail\n",
    "pyautogui.hotkey(\"ctrl\", \"t\")\n",
    "pyperclip.copy(\"https://mail.google.com/mail/u/0/#inbox\")\n",
    "pyautogui.hotkey(\"ctrl\", \"v\")\n",
    "pyautogui.press(\"enter\")\n",
    "\n",
    "time.sleep(25)\n",
    "# Clicar no botão escrever\n",
    "pyautogui.click(x=108, y=225)\n",
    "time.sleep(10)\n",
    "\n",
    "# Campo Destinatário\n",
    "pyautogui.write(\"E-MAIL DESEJADO@PROVEDOR.COM\")\n",
    "pyautogui.press(\"tab\") # Seleciona o e-mail\n",
    "#pyautogui.press(\"tab\") # Pula para o campo \"Assunto\"\n",
    "\n",
    "# Campo Assunto\n",
    "pyperclip.copy(\"Relatório diário de Vendas\")\n",
    "pyautogui.hotkey(\"ctrl\", \"v\")\n",
    "pyautogui.press(\"tab\")\n",
    "\n",
    "# Preencher as informações do e-mail\n",
    "texto = f\"\"\"\n",
    "Prezado(a)s senhore(a)s, bom dia !\n",
    "\n",
    "O faturamento do dia anterior foi de: R$ {faturamento:,.2f}\n",
    "A quantidade de produtos vendidos foi de: {quantidade:,}\n",
    "\n",
    "Atenciosamente,\n",
    "\n",
    "\"\"\"\n",
    "\n",
    "pyperclip.copy(texto)\n",
    "pyautogui.hotkey(\"ctrl\", \"v\")\n",
    "\n",
    "# Enviar o e-mail\n",
    "pyautogui.hotkey(\"ctrl\", \"enter\")"
   ]
  }
 ],
 "metadata": {
  "kernelspec": {
   "display_name": "Python 3 (ipykernel)",
   "language": "python",
   "name": "python3"
  },
  "language_info": {
   "codemirror_mode": {
    "name": "ipython",
    "version": 3
   },
   "file_extension": ".py",
   "mimetype": "text/x-python",
   "name": "python",
   "nbconvert_exporter": "python",
   "pygments_lexer": "ipython3",
   "version": "3.11.5"
  }
 },
 "nbformat": 4,
 "nbformat_minor": 5
}
