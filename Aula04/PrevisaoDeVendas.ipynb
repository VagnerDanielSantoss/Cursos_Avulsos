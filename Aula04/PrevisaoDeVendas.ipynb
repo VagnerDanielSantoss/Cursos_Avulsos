{
 "cells": [
  {
   "cell_type": "markdown",
   "id": "97ebac4c",
   "metadata": {},
   "source": [
    "<h2>Projeto Ciência de Dados - Previsão de Vendas</h2>"
   ]
  },
  {
   "cell_type": "markdown",
   "id": "686a66d2",
   "metadata": {},
   "source": [
    "<p>Nosso desafio é conseguir prever as vendas que vamos ter em determinado período com base nos gastos em anúncios nas 3 grandes redes que a empresa investe: TV, RÁDIO e JORNAL</p>"
   ]
  },
  {
   "cell_type": "markdown",
   "id": "7833b891",
   "metadata": {},
   "source": [
    "<h4>Passo a Passo de um Projeto de Ciência de Dados</h4>\n",
    "\n",
    "- Passo 01: Entendimento do desafio\n",
    "- Passo 02: Entendimento da área / empresa\n",
    "- Passo 03: Extração / Obtenção dos Dados\n",
    "- Passo 04: Ajuste dos Dados (Tratamento e Limpeza)\n",
    "- Passo 05: Análise exploratória\n",
    "- Passo 06: Modelagem + Algorítmos (Aqui entra a inteligência artificial se necessário)\n",
    "- Passo 07: Interpretação dos resultados\n"
   ]
  },
  {
   "cell_type": "markdown",
   "id": "d78f0b83",
   "metadata": {},
   "source": [
    "### Projeto Ciência de Dados - Previsão de Vendas\n",
    "\n",
    " - Nosso desafio é conseguir prever as vendas que vamos ter em determinado período com base nos gastos em anúncios de: TV, RÁDIO e JORNAL\n",
    " - TV, RÁDIO e JORNAL, estão em milhares de reais\n",
    " - VENDAS está em milhões"
   ]
  },
  {
   "cell_type": "markdown",
   "id": "cb2ed2ad",
   "metadata": {},
   "source": [
    "<h2> <font color = \"yellow\">Passo 03: Importar a Base de Dados</font> </h2>"
   ]
  },
  {
   "cell_type": "code",
   "execution_count": 1,
   "id": "14312e4b",
   "metadata": {},
   "outputs": [],
   "source": [
    "import pandas"
   ]
  },
  {
   "cell_type": "code",
   "execution_count": 2,
   "id": "b1379326",
   "metadata": {},
   "outputs": [],
   "source": [
    "tabela = pandas.read_csv(\"F:/PythonImpressionador/Aula04/Arquivo/advertising.csv\")"
   ]
  },
  {
   "cell_type": "code",
   "execution_count": 3,
   "id": "5ba7d959",
   "metadata": {},
   "outputs": [
    {
     "data": {
      "text/html": [
       "<div>\n",
       "<style scoped>\n",
       "    .dataframe tbody tr th:only-of-type {\n",
       "        vertical-align: middle;\n",
       "    }\n",
       "\n",
       "    .dataframe tbody tr th {\n",
       "        vertical-align: top;\n",
       "    }\n",
       "\n",
       "    .dataframe thead th {\n",
       "        text-align: right;\n",
       "    }\n",
       "</style>\n",
       "<table border=\"1\" class=\"dataframe\">\n",
       "  <thead>\n",
       "    <tr style=\"text-align: right;\">\n",
       "      <th></th>\n",
       "      <th>TV</th>\n",
       "      <th>Radio</th>\n",
       "      <th>Jornal</th>\n",
       "      <th>Vendas</th>\n",
       "    </tr>\n",
       "  </thead>\n",
       "  <tbody>\n",
       "    <tr>\n",
       "      <th>0</th>\n",
       "      <td>230.1</td>\n",
       "      <td>37.8</td>\n",
       "      <td>69.2</td>\n",
       "      <td>22.1</td>\n",
       "    </tr>\n",
       "    <tr>\n",
       "      <th>1</th>\n",
       "      <td>44.5</td>\n",
       "      <td>39.3</td>\n",
       "      <td>45.1</td>\n",
       "      <td>10.4</td>\n",
       "    </tr>\n",
       "    <tr>\n",
       "      <th>2</th>\n",
       "      <td>17.2</td>\n",
       "      <td>45.9</td>\n",
       "      <td>69.3</td>\n",
       "      <td>12.0</td>\n",
       "    </tr>\n",
       "    <tr>\n",
       "      <th>3</th>\n",
       "      <td>151.5</td>\n",
       "      <td>41.3</td>\n",
       "      <td>58.5</td>\n",
       "      <td>16.5</td>\n",
       "    </tr>\n",
       "    <tr>\n",
       "      <th>4</th>\n",
       "      <td>180.8</td>\n",
       "      <td>10.8</td>\n",
       "      <td>58.4</td>\n",
       "      <td>17.9</td>\n",
       "    </tr>\n",
       "    <tr>\n",
       "      <th>...</th>\n",
       "      <td>...</td>\n",
       "      <td>...</td>\n",
       "      <td>...</td>\n",
       "      <td>...</td>\n",
       "    </tr>\n",
       "    <tr>\n",
       "      <th>195</th>\n",
       "      <td>38.2</td>\n",
       "      <td>3.7</td>\n",
       "      <td>13.8</td>\n",
       "      <td>7.6</td>\n",
       "    </tr>\n",
       "    <tr>\n",
       "      <th>196</th>\n",
       "      <td>94.2</td>\n",
       "      <td>4.9</td>\n",
       "      <td>8.1</td>\n",
       "      <td>14.0</td>\n",
       "    </tr>\n",
       "    <tr>\n",
       "      <th>197</th>\n",
       "      <td>177.0</td>\n",
       "      <td>9.3</td>\n",
       "      <td>6.4</td>\n",
       "      <td>14.8</td>\n",
       "    </tr>\n",
       "    <tr>\n",
       "      <th>198</th>\n",
       "      <td>283.6</td>\n",
       "      <td>42.0</td>\n",
       "      <td>66.2</td>\n",
       "      <td>25.5</td>\n",
       "    </tr>\n",
       "    <tr>\n",
       "      <th>199</th>\n",
       "      <td>232.1</td>\n",
       "      <td>8.6</td>\n",
       "      <td>8.7</td>\n",
       "      <td>18.4</td>\n",
       "    </tr>\n",
       "  </tbody>\n",
       "</table>\n",
       "<p>200 rows × 4 columns</p>\n",
       "</div>"
      ],
      "text/plain": [
       "        TV  Radio  Jornal  Vendas\n",
       "0    230.1   37.8    69.2    22.1\n",
       "1     44.5   39.3    45.1    10.4\n",
       "2     17.2   45.9    69.3    12.0\n",
       "3    151.5   41.3    58.5    16.5\n",
       "4    180.8   10.8    58.4    17.9\n",
       "..     ...    ...     ...     ...\n",
       "195   38.2    3.7    13.8     7.6\n",
       "196   94.2    4.9     8.1    14.0\n",
       "197  177.0    9.3     6.4    14.8\n",
       "198  283.6   42.0    66.2    25.5\n",
       "199  232.1    8.6     8.7    18.4\n",
       "\n",
       "[200 rows x 4 columns]"
      ]
     },
     "metadata": {},
     "output_type": "display_data"
    }
   ],
   "source": [
    "display(tabela)"
   ]
  },
  {
   "cell_type": "code",
   "execution_count": 4,
   "id": "fa5449fd",
   "metadata": {},
   "outputs": [
    {
     "name": "stdout",
     "output_type": "stream",
     "text": [
      "<class 'pandas.core.frame.DataFrame'>\n",
      "RangeIndex: 200 entries, 0 to 199\n",
      "Data columns (total 4 columns):\n",
      " #   Column  Non-Null Count  Dtype  \n",
      "---  ------  --------------  -----  \n",
      " 0   TV      200 non-null    float64\n",
      " 1   Radio   200 non-null    float64\n",
      " 2   Jornal  200 non-null    float64\n",
      " 3   Vendas  200 non-null    float64\n",
      "dtypes: float64(4)\n",
      "memory usage: 6.4 KB\n",
      "None\n"
     ]
    }
   ],
   "source": [
    "print(tabela.info())"
   ]
  },
  {
   "cell_type": "markdown",
   "id": "4769ebb2",
   "metadata": {},
   "source": [
    "<h2> <font color = \"yellow\">Passo 05: Análise Exploratória</font> </h2>\n",
    "    \n",
    " - Vamos tentar visualizar como as informações de cada item estão distribuídos\n",
    " - Vamos ver a correlação entre cada um dos itens"
   ]
  },
  {
   "cell_type": "code",
   "execution_count": null,
   "id": "901ae2e6",
   "metadata": {},
   "outputs": [],
   "source": [
    "# Instalação de pacotes\n",
    "\n",
    "#!pip install matplotlib\n",
    "\n",
    "#!pip install seaborn\n",
    "\n",
    "#!pip install scikit.learn"
   ]
  },
  {
   "cell_type": "code",
   "execution_count": 5,
   "id": "de383a38",
   "metadata": {},
   "outputs": [],
   "source": [
    "# Importação dos pacotes\n",
    "\n",
    "import matplotlib\n",
    "\n",
    "import seaborn"
   ]
  },
  {
   "cell_type": "code",
   "execution_count": 6,
   "id": "8dbed431",
   "metadata": {},
   "outputs": [
    {
     "name": "stdout",
     "output_type": "stream",
     "text": [
      "              TV     Radio    Jornal    Vendas\n",
      "TV      1.000000  0.054809  0.056648  0.901208\n",
      "Radio   0.054809  1.000000  0.354104  0.349631\n",
      "Jornal  0.056648  0.354104  1.000000  0.157960\n",
      "Vendas  0.901208  0.349631  0.157960  1.000000\n"
     ]
    }
   ],
   "source": [
    "print(tabela.corr())"
   ]
  },
  {
   "cell_type": "code",
   "execution_count": 7,
   "id": "eb0c65e4",
   "metadata": {},
   "outputs": [
    {
     "data": {
      "text/plain": [
       "<Axes: >"
      ]
     },
     "execution_count": 7,
     "metadata": {},
     "output_type": "execute_result"
    },
    {
     "data": {
      "image/png": "[encoded data removed]",
      "text/plain": [
       "<Figure size 640x480 with 2 Axes>"
      ]
     },
     "metadata": {},
     "output_type": "display_data"
    }
   ],
   "source": [
    "seaborn.heatmap(tabela.corr(), cmap = \"Greens\", annot = True)"
   ]
  },
  {
   "cell_type": "markdown",
   "id": "fa44370b",
   "metadata": {},
   "source": [
    " - Com isso, podemos partir para a preparação dos dados para treinamento em modelo de machine learning"
   ]
  },
  {
   "cell_type": "markdown",
   "id": "34d514c8",
   "metadata": {},
   "source": [
    "<h2> <font color = \"yellow\">Passo 06: Modelagem + Algorítmos</font> </h2>"
   ]
  },
  {
   "cell_type": "code",
   "execution_count": 8,
   "id": "a358e139",
   "metadata": {},
   "outputs": [],
   "source": [
    "# Separando em Dados de treino e Dados de teste\n",
    "\n",
    "x = tabela[[\"TV\", \"Radio\", \"Jornal\"]]\n",
    "y = tabela[\"Vendas\"] # Previsão"
   ]
  },
  {
   "cell_type": "code",
   "execution_count": 9,
   "id": "e4538b5e",
   "metadata": {},
   "outputs": [],
   "source": [
    "from sklearn.model_selection import train_test_split"
   ]
  },
  {
   "cell_type": "code",
   "execution_count": 10,
   "id": "b1a3de01",
   "metadata": {},
   "outputs": [],
   "source": [
    "x_treino, x_teste, y_treino, y_teste = train_test_split(x, y, test_size = 0.3)"
   ]
  },
  {
   "cell_type": "markdown",
   "id": "3ad79b1c",
   "metadata": {},
   "source": [
    "<h4>Temos um problema de regressão - Temos que escolher os modelos que serão usados</h4>\n",
    "\n",
    " - Regressão Linear\n",
    " - RandomForest"
   ]
  },
  {
   "cell_type": "code",
   "execution_count": 12,
   "id": "b4ac279f",
   "metadata": {},
   "outputs": [],
   "source": [
    "# Importar a inteligência artificial\n",
    "\n",
    "from sklearn.linear_model import LinearRegression\n",
    "from sklearn.ensemble import RandomForestRegressor"
   ]
  },
  {
   "cell_type": "code",
   "execution_count": 13,
   "id": "2d4c7bd6",
   "metadata": {},
   "outputs": [],
   "source": [
    "# Criar a inteligência artificial\n",
    "\n",
    "modelo_regressao_linear = LinearRegression()\n",
    "modelo_random_forest = RandomForestRegressor()"
   ]
  },
  {
   "cell_type": "code",
   "execution_count": 14,
   "id": "e17dc9fa",
   "metadata": {},
   "outputs": [
    {
     "data": {
      "text/html": [
       "<style>#sk-container-id-1 {color: black;}#sk-container-id-1 pre{padding: 0;}#sk-container-id-1 div.sk-toggleable {background-color: white;}#sk-container-id-1 label.sk-toggleable__label {cursor: pointer;display: block;width: 100%;margin-bottom: 0;padding: 0.3em;box-sizing: border-box;text-align: center;}#sk-container-id-1 label.sk-toggleable__label-arrow:before {content: \"▸\";float: left;margin-right: 0.25em;color: #696969;}#sk-container-id-1 label.sk-toggleable__label-arrow:hover:before {color: black;}#sk-container-id-1 div.sk-estimator:hover label.sk-toggleable__label-arrow:before {color: black;}#sk-container-id-1 div.sk-toggleable__content {max-height: 0;max-width: 0;overflow: hidden;text-align: left;background-color: #f0f8ff;}#sk-container-id-1 div.sk-toggleable__content pre {margin: 0.2em;color: black;border-radius: 0.25em;background-color: #f0f8ff;}#sk-container-id-1 input.sk-toggleable__control:checked~div.sk-toggleable__content {max-height: 200px;max-width: 100%;overflow: auto;}#sk-container-id-1 input.sk-toggleable__control:checked~label.sk-toggleable__label-arrow:before {content: \"▾\";}#sk-container-id-1 div.sk-estimator input.sk-toggleable__control:checked~label.sk-toggleable__label {background-color: #d4ebff;}#sk-container-id-1 div.sk-label input.sk-toggleable__control:checked~label.sk-toggleable__label {background-color: #d4ebff;}#sk-container-id-1 input.sk-hidden--visually {border: 0;clip: rect(1px 1px 1px 1px);clip: rect(1px, 1px, 1px, 1px);height: 1px;margin: -1px;overflow: hidden;padding: 0;position: absolute;width: 1px;}#sk-container-id-1 div.sk-estimator {font-family: monospace;background-color: #f0f8ff;border: 1px dotted black;border-radius: 0.25em;box-sizing: border-box;margin-bottom: 0.5em;}#sk-container-id-1 div.sk-estimator:hover {background-color: #d4ebff;}#sk-container-id-1 div.sk-parallel-item::after {content: \"\";width: 100%;border-bottom: 1px solid gray;flex-grow: 1;}#sk-container-id-1 div.sk-label:hover label.sk-toggleable__label {background-color: #d4ebff;}#sk-container-id-1 div.sk-serial::before {content: \"\";position: absolute;border-left: 1px solid gray;box-sizing: border-box;top: 0;bottom: 0;left: 50%;z-index: 0;}#sk-container-id-1 div.sk-serial {display: flex;flex-direction: column;align-items: center;background-color: white;padding-right: 0.2em;padding-left: 0.2em;position: relative;}#sk-container-id-1 div.sk-item {position: relative;z-index: 1;}#sk-container-id-1 div.sk-parallel {display: flex;align-items: stretch;justify-content: center;background-color: white;position: relative;}#sk-container-id-1 div.sk-item::before, #sk-container-id-1 div.sk-parallel-item::before {content: \"\";position: absolute;border-left: 1px solid gray;box-sizing: border-box;top: 0;bottom: 0;left: 50%;z-index: -1;}#sk-container-id-1 div.sk-parallel-item {display: flex;flex-direction: column;z-index: 1;position: relative;background-color: white;}#sk-container-id-1 div.sk-parallel-item:first-child::after {align-self: flex-end;width: 50%;}#sk-container-id-1 div.sk-parallel-item:last-child::after {align-self: flex-start;width: 50%;}#sk-container-id-1 div.sk-parallel-item:only-child::after {width: 0;}#sk-container-id-1 div.sk-dashed-wrapped {border: 1px dashed gray;margin: 0 0.4em 0.5em 0.4em;box-sizing: border-box;padding-bottom: 0.4em;background-color: white;}#sk-container-id-1 div.sk-label label {font-family: monospace;font-weight: bold;display: inline-block;line-height: 1.2em;}#sk-container-id-1 div.sk-label-container {text-align: center;}#sk-container-id-1 div.sk-container {/* jupyter's `normalize.less` sets `[hidden] { display: none; }` but bootstrap.min.css set `[hidden] { display: none !important; }` so we also need the `!important` here to be able to override the default hidden behavior on the sphinx rendered scikit-learn.org. See: https://github.com/scikit-learn/scikit-learn/issues/21755 */display: inline-block !important;position: relative;}#sk-container-id-1 div.sk-text-repr-fallback {display: none;}</style><div id=\"sk-container-id-1\" class=\"sk-top-container\"><div class=\"sk-text-repr-fallback\"><pre>RandomForestRegressor()</pre><b>In a Jupyter environment, please rerun this cell to show the HTML representation or trust the notebook. <br />On GitHub, the HTML representation is unable to render, please try loading this page with nbviewer.org.</b></div><div class=\"sk-container\" hidden><div class=\"sk-item\"><div class=\"sk-estimator sk-toggleable\"><input class=\"sk-toggleable__control sk-hidden--visually\" id=\"sk-estimator-id-1\" type=\"checkbox\" checked><label for=\"sk-estimator-id-1\" class=\"sk-toggleable__label sk-toggleable__label-arrow\">RandomForestRegressor</label><div class=\"sk-toggleable__content\"><pre>RandomForestRegressor()</pre></div></div></div></div></div>"
      ],
      "text/plain": [
       "RandomForestRegressor()"
      ]
     },
     "execution_count": 14,
     "metadata": {},
     "output_type": "execute_result"
    }
   ],
   "source": [
    "# Treinar a inteligência artificial\n",
    "\n",
    "modelo_regressao_linear.fit(x_treino, y_treino)\n",
    "modelo_random_forest.fit(x_treino, y_treino)"
   ]
  },
  {
   "cell_type": "markdown",
   "id": "77df5ca0",
   "metadata": {},
   "source": [
    "<h4>Teste de IA e Avaliação do Melhor Modelo</h4>\n",
    "\n",
    " - Será utilizado o R&sup2; -> diz a % que o modelo consegue explicar o que aconteceu"
   ]
  },
  {
   "cell_type": "code",
   "execution_count": 15,
   "id": "b1ef7f83",
   "metadata": {},
   "outputs": [],
   "source": [
    "previsao_regressao_linear = modelo_regressao_linear.predict(x_teste)\n",
    "previsao_random_forest = modelo_random_forest.predict(x_teste)"
   ]
  },
  {
   "cell_type": "code",
   "execution_count": 16,
   "id": "ec69894c",
   "metadata": {},
   "outputs": [],
   "source": [
    "from sklearn.metrics import r2_score"
   ]
  },
  {
   "cell_type": "code",
   "execution_count": 17,
   "id": "81a65b83",
   "metadata": {},
   "outputs": [
    {
     "name": "stdout",
     "output_type": "stream",
     "text": [
      "0.8655051474445764\n",
      "0.9376831295060692\n"
     ]
    }
   ],
   "source": [
    "print(r2_score(y_teste, previsao_regressao_linear))\n",
    "print(r2_score(y_teste, previsao_random_forest))"
   ]
  },
  {
   "cell_type": "markdown",
   "id": "a1d59d74",
   "metadata": {},
   "source": [
    "<h4>Visualização Gráfica das Previsões</h4>"
   ]
  },
  {
   "cell_type": "code",
   "execution_count": 18,
   "id": "a76b6816",
   "metadata": {},
   "outputs": [],
   "source": [
    "tabela_auxiliar = pandas.DataFrame()\n",
    "\n",
    "tabela_auxiliar[\"y_teste\"] = y_teste\n",
    "tabela_auxiliar[\"Previsao_random_forest\"] = previsao_random_forest\n",
    "tabela_auxiliar[\"Previsao_regressao_linear\"] = previsao_regressao_linear"
   ]
  },
  {
   "cell_type": "code",
   "execution_count": 19,
   "id": "5df1cf6a",
   "metadata": {},
   "outputs": [
    {
     "data": {
      "text/html": [
       "<div>\n",
       "<style scoped>\n",
       "    .dataframe tbody tr th:only-of-type {\n",
       "        vertical-align: middle;\n",
       "    }\n",
       "\n",
       "    .dataframe tbody tr th {\n",
       "        vertical-align: top;\n",
       "    }\n",
       "\n",
       "    .dataframe thead th {\n",
       "        text-align: right;\n",
       "    }\n",
       "</style>\n",
       "<table border=\"1\" class=\"dataframe\">\n",
       "  <thead>\n",
       "    <tr style=\"text-align: right;\">\n",
       "      <th></th>\n",
       "      <th>y_teste</th>\n",
       "      <th>Previsao_random_forest</th>\n",
       "      <th>Previsao_regressao_linear</th>\n",
       "    </tr>\n",
       "  </thead>\n",
       "  <tbody>\n",
       "    <tr>\n",
       "      <th>28</th>\n",
       "      <td>18.9</td>\n",
       "      <td>20.022</td>\n",
       "      <td>21.229873</td>\n",
       "    </tr>\n",
       "    <tr>\n",
       "      <th>22</th>\n",
       "      <td>5.6</td>\n",
       "      <td>6.284</td>\n",
       "      <td>6.814253</td>\n",
       "    </tr>\n",
       "    <tr>\n",
       "      <th>111</th>\n",
       "      <td>21.8</td>\n",
       "      <td>22.141</td>\n",
       "      <td>22.065191</td>\n",
       "    </tr>\n",
       "    <tr>\n",
       "      <th>107</th>\n",
       "      <td>12.0</td>\n",
       "      <td>11.176</td>\n",
       "      <td>9.372900</td>\n",
       "    </tr>\n",
       "    <tr>\n",
       "      <th>23</th>\n",
       "      <td>20.5</td>\n",
       "      <td>19.825</td>\n",
       "      <td>18.932768</td>\n",
       "    </tr>\n",
       "    <tr>\n",
       "      <th>180</th>\n",
       "      <td>15.5</td>\n",
       "      <td>15.875</td>\n",
       "      <td>13.332727</td>\n",
       "    </tr>\n",
       "    <tr>\n",
       "      <th>135</th>\n",
       "      <td>11.6</td>\n",
       "      <td>10.796</td>\n",
       "      <td>12.311314</td>\n",
       "    </tr>\n",
       "    <tr>\n",
       "      <th>29</th>\n",
       "      <td>10.5</td>\n",
       "      <td>11.871</td>\n",
       "      <td>10.030969</td>\n",
       "    </tr>\n",
       "    <tr>\n",
       "      <th>136</th>\n",
       "      <td>9.5</td>\n",
       "      <td>8.804</td>\n",
       "      <td>10.141763</td>\n",
       "    </tr>\n",
       "    <tr>\n",
       "      <th>59</th>\n",
       "      <td>18.4</td>\n",
       "      <td>18.253</td>\n",
       "      <td>19.386322</td>\n",
       "    </tr>\n",
       "    <tr>\n",
       "      <th>33</th>\n",
       "      <td>17.4</td>\n",
       "      <td>20.265</td>\n",
       "      <td>21.379388</td>\n",
       "    </tr>\n",
       "    <tr>\n",
       "      <th>103</th>\n",
       "      <td>19.7</td>\n",
       "      <td>20.019</td>\n",
       "      <td>16.720254</td>\n",
       "    </tr>\n",
       "    <tr>\n",
       "      <th>55</th>\n",
       "      <td>23.7</td>\n",
       "      <td>23.242</td>\n",
       "      <td>20.942658</td>\n",
       "    </tr>\n",
       "    <tr>\n",
       "      <th>163</th>\n",
       "      <td>18.0</td>\n",
       "      <td>18.280</td>\n",
       "      <td>17.581226</td>\n",
       "    </tr>\n",
       "    <tr>\n",
       "      <th>166</th>\n",
       "      <td>8.0</td>\n",
       "      <td>8.367</td>\n",
       "      <td>9.546197</td>\n",
       "    </tr>\n",
       "    <tr>\n",
       "      <th>153</th>\n",
       "      <td>16.0</td>\n",
       "      <td>18.412</td>\n",
       "      <td>18.323364</td>\n",
       "    </tr>\n",
       "    <tr>\n",
       "      <th>154</th>\n",
       "      <td>20.6</td>\n",
       "      <td>19.972</td>\n",
       "      <td>17.160839</td>\n",
       "    </tr>\n",
       "    <tr>\n",
       "      <th>13</th>\n",
       "      <td>13.7</td>\n",
       "      <td>11.428</td>\n",
       "      <td>10.603965</td>\n",
       "    </tr>\n",
       "    <tr>\n",
       "      <th>17</th>\n",
       "      <td>24.4</td>\n",
       "      <td>22.969</td>\n",
       "      <td>24.437087</td>\n",
       "    </tr>\n",
       "    <tr>\n",
       "      <th>160</th>\n",
       "      <td>16.4</td>\n",
       "      <td>19.179</td>\n",
       "      <td>15.954959</td>\n",
       "    </tr>\n",
       "    <tr>\n",
       "      <th>4</th>\n",
       "      <td>17.9</td>\n",
       "      <td>18.464</td>\n",
       "      <td>15.574496</td>\n",
       "    </tr>\n",
       "    <tr>\n",
       "      <th>49</th>\n",
       "      <td>9.7</td>\n",
       "      <td>11.530</td>\n",
       "      <td>9.341663</td>\n",
       "    </tr>\n",
       "    <tr>\n",
       "      <th>126</th>\n",
       "      <td>6.6</td>\n",
       "      <td>6.241</td>\n",
       "      <td>9.110698</td>\n",
       "    </tr>\n",
       "    <tr>\n",
       "      <th>178</th>\n",
       "      <td>16.8</td>\n",
       "      <td>17.038</td>\n",
       "      <td>19.983072</td>\n",
       "    </tr>\n",
       "    <tr>\n",
       "      <th>141</th>\n",
       "      <td>19.2</td>\n",
       "      <td>19.395</td>\n",
       "      <td>19.060927</td>\n",
       "    </tr>\n",
       "    <tr>\n",
       "      <th>63</th>\n",
       "      <td>14.0</td>\n",
       "      <td>13.977</td>\n",
       "      <td>13.378171</td>\n",
       "    </tr>\n",
       "    <tr>\n",
       "      <th>174</th>\n",
       "      <td>16.5</td>\n",
       "      <td>17.154</td>\n",
       "      <td>17.087661</td>\n",
       "    </tr>\n",
       "    <tr>\n",
       "      <th>34</th>\n",
       "      <td>11.9</td>\n",
       "      <td>12.116</td>\n",
       "      <td>9.803136</td>\n",
       "    </tr>\n",
       "    <tr>\n",
       "      <th>133</th>\n",
       "      <td>19.6</td>\n",
       "      <td>19.582</td>\n",
       "      <td>20.321509</td>\n",
       "    </tr>\n",
       "    <tr>\n",
       "      <th>171</th>\n",
       "      <td>17.5</td>\n",
       "      <td>18.794</td>\n",
       "      <td>15.814171</td>\n",
       "    </tr>\n",
       "    <tr>\n",
       "      <th>45</th>\n",
       "      <td>16.1</td>\n",
       "      <td>17.247</td>\n",
       "      <td>16.596382</td>\n",
       "    </tr>\n",
       "    <tr>\n",
       "      <th>112</th>\n",
       "      <td>17.1</td>\n",
       "      <td>19.098</td>\n",
       "      <td>15.847230</td>\n",
       "    </tr>\n",
       "    <tr>\n",
       "      <th>54</th>\n",
       "      <td>20.2</td>\n",
       "      <td>20.040</td>\n",
       "      <td>22.201384</td>\n",
       "    </tr>\n",
       "    <tr>\n",
       "      <th>18</th>\n",
       "      <td>11.3</td>\n",
       "      <td>11.743</td>\n",
       "      <td>10.476281</td>\n",
       "    </tr>\n",
       "    <tr>\n",
       "      <th>60</th>\n",
       "      <td>8.1</td>\n",
       "      <td>8.672</td>\n",
       "      <td>7.509287</td>\n",
       "    </tr>\n",
       "    <tr>\n",
       "      <th>0</th>\n",
       "      <td>22.1</td>\n",
       "      <td>21.607</td>\n",
       "      <td>21.365287</td>\n",
       "    </tr>\n",
       "    <tr>\n",
       "      <th>122</th>\n",
       "      <td>16.6</td>\n",
       "      <td>16.665</td>\n",
       "      <td>17.062216</td>\n",
       "    </tr>\n",
       "    <tr>\n",
       "      <th>70</th>\n",
       "      <td>18.3</td>\n",
       "      <td>17.749</td>\n",
       "      <td>18.844352</td>\n",
       "    </tr>\n",
       "    <tr>\n",
       "      <th>66</th>\n",
       "      <td>11.0</td>\n",
       "      <td>8.055</td>\n",
       "      <td>8.848731</td>\n",
       "    </tr>\n",
       "    <tr>\n",
       "      <th>184</th>\n",
       "      <td>17.6</td>\n",
       "      <td>19.987</td>\n",
       "      <td>20.848661</td>\n",
       "    </tr>\n",
       "    <tr>\n",
       "      <th>140</th>\n",
       "      <td>10.9</td>\n",
       "      <td>11.613</td>\n",
       "      <td>10.318635</td>\n",
       "    </tr>\n",
       "    <tr>\n",
       "      <th>40</th>\n",
       "      <td>16.6</td>\n",
       "      <td>17.735</td>\n",
       "      <td>18.101032</td>\n",
       "    </tr>\n",
       "    <tr>\n",
       "      <th>123</th>\n",
       "      <td>15.2</td>\n",
       "      <td>14.618</td>\n",
       "      <td>15.077428</td>\n",
       "    </tr>\n",
       "    <tr>\n",
       "      <th>131</th>\n",
       "      <td>17.7</td>\n",
       "      <td>16.936</td>\n",
       "      <td>19.396939</td>\n",
       "    </tr>\n",
       "    <tr>\n",
       "      <th>116</th>\n",
       "      <td>12.2</td>\n",
       "      <td>12.869</td>\n",
       "      <td>13.672929</td>\n",
       "    </tr>\n",
       "    <tr>\n",
       "      <th>149</th>\n",
       "      <td>10.1</td>\n",
       "      <td>9.456</td>\n",
       "      <td>9.707783</td>\n",
       "    </tr>\n",
       "    <tr>\n",
       "      <th>39</th>\n",
       "      <td>21.5</td>\n",
       "      <td>21.359</td>\n",
       "      <td>21.261772</td>\n",
       "    </tr>\n",
       "    <tr>\n",
       "      <th>182</th>\n",
       "      <td>8.7</td>\n",
       "      <td>8.848</td>\n",
       "      <td>8.072204</td>\n",
       "    </tr>\n",
       "    <tr>\n",
       "      <th>125</th>\n",
       "      <td>10.6</td>\n",
       "      <td>11.482</td>\n",
       "      <td>10.491783</td>\n",
       "    </tr>\n",
       "    <tr>\n",
       "      <th>148</th>\n",
       "      <td>10.9</td>\n",
       "      <td>10.116</td>\n",
       "      <td>10.978068</td>\n",
       "    </tr>\n",
       "    <tr>\n",
       "      <th>73</th>\n",
       "      <td>11.0</td>\n",
       "      <td>11.608</td>\n",
       "      <td>12.151390</td>\n",
       "    </tr>\n",
       "    <tr>\n",
       "      <th>42</th>\n",
       "      <td>20.7</td>\n",
       "      <td>20.497</td>\n",
       "      <td>23.808943</td>\n",
       "    </tr>\n",
       "    <tr>\n",
       "      <th>90</th>\n",
       "      <td>14.0</td>\n",
       "      <td>12.028</td>\n",
       "      <td>12.348842</td>\n",
       "    </tr>\n",
       "    <tr>\n",
       "      <th>52</th>\n",
       "      <td>22.6</td>\n",
       "      <td>21.710</td>\n",
       "      <td>21.061946</td>\n",
       "    </tr>\n",
       "    <tr>\n",
       "      <th>6</th>\n",
       "      <td>11.8</td>\n",
       "      <td>10.365</td>\n",
       "      <td>11.210064</td>\n",
       "    </tr>\n",
       "    <tr>\n",
       "      <th>41</th>\n",
       "      <td>17.1</td>\n",
       "      <td>17.597</td>\n",
       "      <td>17.928764</td>\n",
       "    </tr>\n",
       "    <tr>\n",
       "      <th>62</th>\n",
       "      <td>20.7</td>\n",
       "      <td>20.052</td>\n",
       "      <td>19.387040</td>\n",
       "    </tr>\n",
       "    <tr>\n",
       "      <th>92</th>\n",
       "      <td>19.4</td>\n",
       "      <td>18.502</td>\n",
       "      <td>20.195172</td>\n",
       "    </tr>\n",
       "    <tr>\n",
       "      <th>14</th>\n",
       "      <td>19.0</td>\n",
       "      <td>17.941</td>\n",
       "      <td>19.377995</td>\n",
       "    </tr>\n",
       "    <tr>\n",
       "      <th>43</th>\n",
       "      <td>17.9</td>\n",
       "      <td>17.560</td>\n",
       "      <td>16.779600</td>\n",
       "    </tr>\n",
       "  </tbody>\n",
       "</table>\n",
       "</div>"
      ],
      "text/plain": [
       "     y_teste  Previsao_random_forest  Previsao_regressao_linear\n",
       "28      18.9                  20.022                  21.229873\n",
       "22       5.6                   6.284                   6.814253\n",
       "111     21.8                  22.141                  22.065191\n",
       "107     12.0                  11.176                   9.372900\n",
       "23      20.5                  19.825                  18.932768\n",
       "180     15.5                  15.875                  13.332727\n",
       "135     11.6                  10.796                  12.311314\n",
       "29      10.5                  11.871                  10.030969\n",
       "136      9.5                   8.804                  10.141763\n",
       "59      18.4                  18.253                  19.386322\n",
       "33      17.4                  20.265                  21.379388\n",
       "103     19.7                  20.019                  16.720254\n",
       "55      23.7                  23.242                  20.942658\n",
       "163     18.0                  18.280                  17.581226\n",
       "166      8.0                   8.367                   9.546197\n",
       "153     16.0                  18.412                  18.323364\n",
       "154     20.6                  19.972                  17.160839\n",
       "13      13.7                  11.428                  10.603965\n",
       "17      24.4                  22.969                  24.437087\n",
       "160     16.4                  19.179                  15.954959\n",
       "4       17.9                  18.464                  15.574496\n",
       "49       9.7                  11.530                   9.341663\n",
       "126      6.6                   6.241                   9.110698\n",
       "178     16.8                  17.038                  19.983072\n",
       "141     19.2                  19.395                  19.060927\n",
       "63      14.0                  13.977                  13.378171\n",
       "174     16.5                  17.154                  17.087661\n",
       "34      11.9                  12.116                   9.803136\n",
       "133     19.6                  19.582                  20.321509\n",
       "171     17.5                  18.794                  15.814171\n",
       "45      16.1                  17.247                  16.596382\n",
       "112     17.1                  19.098                  15.847230\n",
       "54      20.2                  20.040                  22.201384\n",
       "18      11.3                  11.743                  10.476281\n",
       "60       8.1                   8.672                   7.509287\n",
       "0       22.1                  21.607                  21.365287\n",
       "122     16.6                  16.665                  17.062216\n",
       "70      18.3                  17.749                  18.844352\n",
       "66      11.0                   8.055                   8.848731\n",
       "184     17.6                  19.987                  20.848661\n",
       "140     10.9                  11.613                  10.318635\n",
       "40      16.6                  17.735                  18.101032\n",
       "123     15.2                  14.618                  15.077428\n",
       "131     17.7                  16.936                  19.396939\n",
       "116     12.2                  12.869                  13.672929\n",
       "149     10.1                   9.456                   9.707783\n",
       "39      21.5                  21.359                  21.261772\n",
       "182      8.7                   8.848                   8.072204\n",
       "125     10.6                  11.482                  10.491783\n",
       "148     10.9                  10.116                  10.978068\n",
       "73      11.0                  11.608                  12.151390\n",
       "42      20.7                  20.497                  23.808943\n",
       "90      14.0                  12.028                  12.348842\n",
       "52      22.6                  21.710                  21.061946\n",
       "6       11.8                  10.365                  11.210064\n",
       "41      17.1                  17.597                  17.928764\n",
       "62      20.7                  20.052                  19.387040\n",
       "92      19.4                  18.502                  20.195172\n",
       "14      19.0                  17.941                  19.377995\n",
       "43      17.9                  17.560                  16.779600"
      ]
     },
     "metadata": {},
     "output_type": "display_data"
    }
   ],
   "source": [
    "display(tabela_auxiliar)"
   ]
  },
  {
   "cell_type": "code",
   "execution_count": 20,
   "id": "95c363b3",
   "metadata": {},
   "outputs": [
    {
     "data": {
      "text/plain": [
       "<Axes: >"
      ]
     },
     "execution_count": 20,
     "metadata": {},
     "output_type": "execute_result"
    },
    {
     "data": {
      "image/png": "[encoded data removed]",
      "text/plain": [
       "<Figure size 640x480 with 1 Axes>"
      ]
     },
     "metadata": {},
     "output_type": "display_data"
    }
   ],
   "source": [
    "seaborn.lineplot(data = tabela_auxiliar)"
   ]
  },
  {
   "cell_type": "markdown",
   "id": "e79e67d6",
   "metadata": {},
   "source": [
    "<h4>Como testar uma nova previsão ?</h4>"
   ]
  },
  {
   "cell_type": "code",
   "execution_count": 21,
   "id": "062471f9",
   "metadata": {},
   "outputs": [],
   "source": [
    "# Necessário possuir nova base de dados onde ainda não tenha sido treinado\n",
    "\n",
    "nova_tabela = pandas.read_csv(\"F:/PythonImpressionador/Aula04/Arquivo/novos.csv\")"
   ]
  },
  {
   "cell_type": "code",
   "execution_count": 22,
   "id": "ad9028e5",
   "metadata": {},
   "outputs": [
    {
     "data": {
      "text/html": [
       "<div>\n",
       "<style scoped>\n",
       "    .dataframe tbody tr th:only-of-type {\n",
       "        vertical-align: middle;\n",
       "    }\n",
       "\n",
       "    .dataframe tbody tr th {\n",
       "        vertical-align: top;\n",
       "    }\n",
       "\n",
       "    .dataframe thead th {\n",
       "        text-align: right;\n",
       "    }\n",
       "</style>\n",
       "<table border=\"1\" class=\"dataframe\">\n",
       "  <thead>\n",
       "    <tr style=\"text-align: right;\">\n",
       "      <th></th>\n",
       "      <th>TV</th>\n",
       "      <th>Radio</th>\n",
       "      <th>Jornal</th>\n",
       "    </tr>\n",
       "  </thead>\n",
       "  <tbody>\n",
       "    <tr>\n",
       "      <th>0</th>\n",
       "      <td>23.1</td>\n",
       "      <td>3.8</td>\n",
       "      <td>69.2</td>\n",
       "    </tr>\n",
       "    <tr>\n",
       "      <th>1</th>\n",
       "      <td>44.5</td>\n",
       "      <td>0.0</td>\n",
       "      <td>5.1</td>\n",
       "    </tr>\n",
       "    <tr>\n",
       "      <th>2</th>\n",
       "      <td>170.2</td>\n",
       "      <td>45.9</td>\n",
       "      <td>0.0</td>\n",
       "    </tr>\n",
       "  </tbody>\n",
       "</table>\n",
       "</div>"
      ],
      "text/plain": [
       "      TV  Radio  Jornal\n",
       "0   23.1    3.8    69.2\n",
       "1   44.5    0.0     5.1\n",
       "2  170.2   45.9     0.0"
      ]
     },
     "metadata": {},
     "output_type": "display_data"
    }
   ],
   "source": [
    "display(nova_tabela)"
   ]
  },
  {
   "cell_type": "code",
   "execution_count": 23,
   "id": "9b65e640",
   "metadata": {},
   "outputs": [
    {
     "data": {
      "text/plain": [
       "array([ 7.669,  8.432, 20.73 ])"
      ]
     },
     "metadata": {},
     "output_type": "display_data"
    }
   ],
   "source": [
    "nova_previsao = modelo_random_forest.predict(nova_tabela)\n",
    "display(nova_previsao)"
   ]
  }
 ],
 "metadata": {
  "kernelspec": {
   "display_name": "Python 3 (ipykernel)",
   "language": "python",
   "name": "python3"
  },
  "language_info": {
   "codemirror_mode": {
    "name": "ipython",
    "version": 3
   },
   "file_extension": ".py",
   "mimetype": "text/x-python",
   "name": "python",
   "nbconvert_exporter": "python",
   "pygments_lexer": "ipython3",
   "version": "3.11.5"
  }
 },
 "nbformat": 4,
 "nbformat_minor": 5
}
